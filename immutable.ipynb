{
 "cells": [
  {
   "cell_type": "code",
   "execution_count": null,
   "metadata": {},
   "outputs": [],
   "source": [
    "s='python'\n",
    "\n",
    "s[-1:-7:-1]\n",
    "\n",
    "# s[0:4:2]\n",
    "# s[::-1]\n",
    "# id(s)\n",
    "\n",
    "# id(s)\n",
    "# dir(s)\n",
    "\n"
   ]
  },
  {
   "cell_type": "code",
   "execution_count": null,
   "metadata": {},
   "outputs": [],
   "source": [
    "s='python'\n",
    "dir(s)\n"
   ]
  },
  {
   "cell_type": "code",
   "execution_count": null,
   "metadata": {},
   "outputs": [],
   "source": [
    "help(s.capitalize)"
   ]
  },
  {
   "cell_type": "code",
   "execution_count": null,
   "metadata": {},
   "outputs": [],
   "source": [
    "t='java'\n",
    "s+t\n",
    "t*3"
   ]
  },
  {
   "cell_type": "code",
   "execution_count": null,
   "metadata": {},
   "outputs": [],
   "source": [
    "for index,value in enumerate(s):\n",
    "    print(f\"The index is {index} value is {value}\")"
   ]
  },
  {
   "cell_type": "code",
   "execution_count": null,
   "metadata": {},
   "outputs": [],
   "source": []
  },
  {
   "cell_type": "code",
   "execution_count": null,
   "metadata": {},
   "outputs": [],
   "source": [
    "len(s)"
   ]
  },
  {
   "cell_type": "code",
   "execution_count": null,
   "metadata": {},
   "outputs": [],
   "source": [
    "x='\\n\\nhello'\n",
    "len(x)"
   ]
  },
  {
   "cell_type": "code",
   "execution_count": null,
   "metadata": {},
   "outputs": [],
   "source": [
    "count=0\n",
    "for i in s:\n",
    "    count=count+1\n",
    "print(count)"
   ]
  },
  {
   "cell_type": "code",
   "execution_count": null,
   "metadata": {},
   "outputs": [],
   "source": [
    "print(min(s))\n",
    "print(max(s))\n",
    "print(sorted(s))\n",
    "# type(sorted)\n",
    "print()\n",
    "# s.capitalize()\n",
    "z=\"jAva\"\n",
    "# z.capitalize()\n",
    "s=\"Python\"\n",
    "# s.capitalize()\n",
    "z.upper()\n",
    "z.lower()\n",
    "z.isupper()\n",
    "z.islower()\n",
    "z.swapcase()\n",
    "s.swapcase()"
   ]
  },
  {
   "cell_type": "code",
   "execution_count": null,
   "metadata": {},
   "outputs": [],
   "source": [
    "help(z.count)"
   ]
  },
  {
   "cell_type": "code",
   "execution_count": null,
   "metadata": {},
   "outputs": [],
   "source": [
    "z.count('p')"
   ]
  },
  {
   "cell_type": "code",
   "execution_count": null,
   "metadata": {},
   "outputs": [],
   "source": [
    "s=\"swapswapl\"\n",
    "# s.count('l')\n",
    "# s.find(\"l\")\n",
    "# s.isalnum()\n",
    "# s.index(\"g\")\n",
    "s.replace(\"swapl\",\"nil\",-1)\n",
    "s.split(\"w\")\n",
    "\n",
    "\n",
    "\n",
    "# s.isspace()"
   ]
  },
  {
   "cell_type": "code",
   "execution_count": null,
   "metadata": {},
   "outputs": [],
   "source": [
    "s=\"       \"\n",
    "s.isspace()"
   ]
  },
  {
   "cell_type": "code",
   "execution_count": null,
   "metadata": {},
   "outputs": [],
   "source": [
    "s=\" sheldon penny leonard bernadette rajesh howard\"\n",
    "s.split(\"is\")\n",
    "\"💎\".join(s)\n",
    "s.strip()"
   ]
  },
  {
   "cell_type": "code",
   "execution_count": null,
   "metadata": {},
   "outputs": [],
   "source": [
    "help(s.strip())"
   ]
  },
  {
   "cell_type": "code",
   "execution_count": null,
   "metadata": {},
   "outputs": [],
   "source": [
    "s.strip()\n",
    "# strip will remove the leading and trailing whitespaces from a given string\n",
    "z=\"  hello  \"\n",
    "help(z.strip())"
   ]
  },
  {
   "cell_type": "code",
   "execution_count": null,
   "metadata": {},
   "outputs": [],
   "source": [
    "a=\"      sheldon penny leonard bernadette rajesh howard     \"\n",
    "a.strip()\n"
   ]
  },
  {
   "cell_type": "code",
   "execution_count": 8,
   "metadata": {},
   "outputs": [
    {
     "name": "stdout",
     "output_type": "stream",
     "text": [
      "hi what is h like\n"
     ]
    }
   ],
   "source": [
    "import string\n",
    "# help(string)\n",
    "a_string=\"!hi $wha?t is [h] like?\"\n",
    "new_string=a_string.translate(str.maketrans(\"\",\"\",string.punctuation))\n",
    "print(new_string)"
   ]
  },
  {
   "cell_type": "code",
   "execution_count": null,
   "metadata": {},
   "outputs": [],
   "source": []
  },
  {
   "cell_type": "code",
   "execution_count": null,
   "metadata": {},
   "outputs": [],
   "source": [
    "# translate  method: in this method the characters are translated using table created by maketrans() in string module optionallly \n",
    "# removing any characters found in the String\n",
    "# maketrans()\n",
    "# str.maketrans(intab,outtab)\n",
    "intab='aeiou'\n",
    "outtab='12345'\n",
    "my='this is a string function'\n",
    "table=my.maketrans(intab,outtab)\n",
    "print(my.translate(table))"
   ]
  },
  {
   "cell_type": "code",
   "execution_count": null,
   "metadata": {},
   "outputs": [],
   "source": [
    "help(string)"
   ]
  },
  {
   "cell_type": "code",
   "execution_count": 25,
   "metadata": {},
   "outputs": [
    {
     "name": "stdout",
     "output_type": "stream",
     "text": [
      "(1, 2, 3)\n",
      "(1, 2, 3)\n"
     ]
    },
    {
     "ename": "TypeError",
     "evalue": "'int' object does not support item assignment",
     "output_type": "error",
     "traceback": [
      "\u001b[1;31m---------------------------------------------------------------------------\u001b[0m",
      "\u001b[1;31mTypeError\u001b[0m                                 Traceback (most recent call last)",
      "\u001b[1;32m<ipython-input-25-a026e5b7142a>\u001b[0m in \u001b[0;36m<module>\u001b[1;34m\u001b[0m\n\u001b[0;32m      7\u001b[0m \u001b[0mx\u001b[0m\u001b[1;33m=\u001b[0m\u001b[1;33m(\u001b[0m\u001b[1;36m3\u001b[0m\u001b[1;33m,\u001b[0m\u001b[1;36m4\u001b[0m\u001b[1;33m,\u001b[0m\u001b[1;36m5\u001b[0m\u001b[1;33m)\u001b[0m\u001b[1;33m\u001b[0m\u001b[1;33m\u001b[0m\u001b[0m\n\u001b[0;32m      8\u001b[0m \u001b[0mprint\u001b[0m\u001b[1;33m(\u001b[0m\u001b[0my\u001b[0m\u001b[1;33m)\u001b[0m\u001b[1;33m\u001b[0m\u001b[1;33m\u001b[0m\u001b[0m\n\u001b[1;32m----> 9\u001b[1;33m \u001b[0mx\u001b[0m\u001b[1;33m[\u001b[0m\u001b[1;36m1\u001b[0m\u001b[1;33m]\u001b[0m\u001b[1;33m[\u001b[0m\u001b[1;36m1\u001b[0m\u001b[1;33m]\u001b[0m\u001b[1;33m=\u001b[0m\u001b[1;36m100\u001b[0m\u001b[1;33m\u001b[0m\u001b[1;33m\u001b[0m\u001b[0m\n\u001b[0m\u001b[0;32m     10\u001b[0m \u001b[0mprint\u001b[0m\u001b[1;33m(\u001b[0m\u001b[0mx\u001b[0m\u001b[1;33m)\u001b[0m\u001b[1;33m\u001b[0m\u001b[1;33m\u001b[0m\u001b[0m\n",
      "\u001b[1;31mTypeError\u001b[0m: 'int' object does not support item assignment"
     ]
    }
   ],
   "source": [
    "# Tuple\n",
    "# it is a data structure of heterogenous elements and immutable \n",
    "# it can be created using \",\" or \"()\"\n",
    "x=(1,2,3)\n",
    "print(x)\n",
    "y=x\n",
    "x=(3,4,5)\n",
    "print(y)\n",
    "x[1][1]=100\n",
    "print(x)\n"
   ]
  },
  {
   "cell_type": "code",
   "execution_count": 29,
   "metadata": {},
   "outputs": [
    {
     "name": "stdout",
     "output_type": "stream",
     "text": [
      "('hiiiiiii', [8, 100, 6], (1, 2, 3))\n"
     ]
    },
    {
     "data": {
      "text/plain": [
       "('hiiiiiii', [8, 100, 6])"
      ]
     },
     "execution_count": 29,
     "metadata": {},
     "output_type": "execute_result"
    }
   ],
   "source": [
    "x=(\"hiiiiiii\",[8,4,6],(1,2,3))\n",
    "x[2][0]\n",
    "x[0][3]\n",
    "x[1][1]=100\n",
    "print(x)\n",
    "x[0:2]"
   ]
  },
  {
   "cell_type": "code",
   "execution_count": 47,
   "metadata": {},
   "outputs": [
    {
     "data": {
      "text/plain": [
       "0"
      ]
     },
     "execution_count": 47,
     "metadata": {},
     "output_type": "execute_result"
    }
   ],
   "source": [
    "x=(1,2,3,3)\n",
    "# help(x.index)\n",
    "x.index(2)\n",
    "# dir(x) \n",
    "x.count(3)\n",
    "zz=(\"this\", \"is\", \"spanish\",\"el nino\" ,\"atharva\")\n",
    "zz.count(\"i\")"
   ]
  },
  {
   "cell_type": "code",
   "execution_count": 73,
   "metadata": {},
   "outputs": [
    {
     "data": {
      "text/plain": [
       "True"
      ]
     },
     "execution_count": 73,
     "metadata": {},
     "output_type": "execute_result"
    }
   ],
   "source": [
    "# \"==\"\n",
    "# returns true if all the elements are same and in same order\n",
    "# \"!=\"\n",
    "# returns true if all the elements are different and in different order\n",
    "x=(4,4,2,3)\n",
    "y=(4,5,6)\n",
    "x<y\n",
    "\n",
    "# compares tuples  elements wise retjurns true if first differing element in first tuple is smaller\n",
    "# if the elements are equal then it will check the lenght"
   ]
  },
  {
   "cell_type": "code",
   "execution_count": 75,
   "metadata": {},
   "outputs": [
    {
     "data": {
      "text/plain": [
       "False"
      ]
     },
     "execution_count": 75,
     "metadata": {},
     "output_type": "execute_result"
    }
   ],
   "source": [
    "x=(4,4,2,3,8)\n",
    "x<y"
   ]
  },
  {
   "cell_type": "code",
   "execution_count": 86,
   "metadata": {},
   "outputs": [
    {
     "ename": "SyntaxError",
     "evalue": "invalid syntax (<ipython-input-86-719c206846ae>, line 10)",
     "output_type": "error",
     "traceback": [
      "\u001b[1;36m  File \u001b[1;32m\"<ipython-input-86-719c206846ae>\"\u001b[1;36m, line \u001b[1;32m10\u001b[0m\n\u001b[1;33m    ord('1')\u001b[0m\n\u001b[1;37m    ^\u001b[0m\n\u001b[1;31mSyntaxError\u001b[0m\u001b[1;31m:\u001b[0m invalid syntax\n"
     ]
    }
   ],
   "source": [
    "x=(1,'hi',[1,2,34])\n",
    "y=(4,4,2,3)\n",
    "\n",
    "len(x[1])\n",
    "# max function :it returns elements with max value(type of element should be same)\n",
    "max(y)\n",
    "min(y)\n",
    "sorted(y)\n",
    "chr(97)\n"
   ]
  },
  {
   "cell_type": "code",
   "execution_count": null,
   "metadata": {},
   "outputs": [],
   "source": [
    "# why to use tuple\n",
    "# tuples are faster in processing then lists\n",
    "# it makes data safe (change na kari sako in place)\n",
    "# also use for string formatting\n",
    "# \n"
   ]
  },
  {
   "cell_type": "code",
   "execution_count": 96,
   "metadata": {},
   "outputs": [
    {
     "name": "stdout",
     "output_type": "stream",
     "text": [
      "\u0000 0\n",
      "\u0001 1\n",
      "\u0002 2\n",
      "\u0003 3\n",
      "\u0004 4\n",
      "\u0005 5\n",
      "\u0006 6\n",
      "\u0007 7\n",
      "\b 8\n",
      "\t 9\n",
      "\n",
      " 10\n",
      "\u000b",
      " 11\n",
      "\f",
      " 12\n",
      "\r",
      " 13\n",
      "\u000e 14\n",
      "\u000f 15\n",
      "\u0010 16\n",
      "\u0011 17\n",
      "\u0012 18\n",
      "\u0013 19\n",
      "\u0014 20\n",
      "\u0015 21\n",
      "\u0016 22\n",
      "\u0017 23\n",
      "\u0018 24\n",
      "\u0019 25\n",
      "\u001a 26\n",
      "\u001b 27\n",
      "\u001c",
      " 28\n",
      "\u001d",
      " 29\n",
      "\u001e",
      " 30\n",
      "\u001f 31\n",
      "  32\n",
      "! 33\n",
      "\" 34\n",
      "# 35\n",
      "$ 36\n",
      "% 37\n",
      "& 38\n",
      "' 39\n",
      "( 40\n",
      ") 41\n",
      "* 42\n",
      "+ 43\n",
      ", 44\n",
      "- 45\n",
      ". 46\n",
      "/ 47\n",
      "0 48\n",
      "1 49\n",
      "2 50\n",
      "3 51\n",
      "4 52\n",
      "5 53\n",
      "6 54\n",
      "7 55\n",
      "8 56\n",
      "9 57\n",
      ": 58\n",
      "; 59\n",
      "< 60\n",
      "= 61\n",
      "> 62\n",
      "? 63\n",
      "@ 64\n",
      "A 65\n",
      "B 66\n",
      "C 67\n",
      "D 68\n",
      "E 69\n",
      "F 70\n",
      "G 71\n",
      "H 72\n",
      "I 73\n",
      "J 74\n",
      "K 75\n",
      "L 76\n",
      "M 77\n",
      "N 78\n",
      "O 79\n",
      "P 80\n",
      "Q 81\n",
      "R 82\n",
      "S 83\n",
      "T 84\n",
      "U 85\n",
      "V 86\n",
      "W 87\n",
      "X 88\n",
      "Y 89\n",
      "Z 90\n",
      "[ 91\n",
      "\\ 92\n",
      "] 93\n",
      "^ 94\n",
      "_ 95\n",
      "` 96\n",
      "a 97\n",
      "b 98\n",
      "c 99\n",
      "d 100\n",
      "e 101\n",
      "f 102\n",
      "g 103\n",
      "h 104\n",
      "i 105\n",
      "j 106\n",
      "k 107\n",
      "l 108\n",
      "m 109\n",
      "n 110\n",
      "o 111\n",
      "p 112\n",
      "q 113\n",
      "r 114\n",
      "s 115\n",
      "t 116\n",
      "u 117\n",
      "v 118\n",
      "w 119\n",
      "x 120\n",
      "y 121\n",
      "z 122\n",
      "{ 123\n",
      "| 124\n",
      "} 125\n",
      "~ 126\n",
      " 127\n",
      " 128\n",
      " 129\n",
      " 130\n",
      " 131\n",
      " 132\n",
      "",
      " 133\n",
      " 134\n",
      " 135\n",
      " 136\n",
      " 137\n",
      " 138\n",
      " 139\n",
      " 140\n",
      " 141\n",
      " 142\n",
      " 143\n",
      " 144\n",
      " 145\n",
      " 146\n",
      " 147\n",
      " 148\n",
      " 149\n",
      " 150\n",
      " 151\n",
      " 152\n",
      " 153\n",
      " 154\n",
      " 155\n",
      " 156\n",
      " 157\n",
      " 158\n",
      " 159\n",
      "  160\n",
      "¡ 161\n",
      "¢ 162\n",
      "£ 163\n",
      "¤ 164\n",
      "¥ 165\n",
      "¦ 166\n",
      "§ 167\n",
      "¨ 168\n",
      "© 169\n",
      "ª 170\n",
      "« 171\n",
      "¬ 172\n",
      "­ 173\n",
      "® 174\n",
      "¯ 175\n",
      "° 176\n",
      "± 177\n",
      "² 178\n",
      "³ 179\n",
      "´ 180\n",
      "µ 181\n",
      "¶ 182\n",
      "· 183\n",
      "¸ 184\n",
      "¹ 185\n",
      "º 186\n",
      "» 187\n",
      "¼ 188\n",
      "½ 189\n",
      "¾ 190\n",
      "¿ 191\n",
      "À 192\n",
      "Á 193\n",
      "Â 194\n",
      "Ã 195\n",
      "Ä 196\n",
      "Å 197\n",
      "Æ 198\n",
      "Ç 199\n",
      "È 200\n",
      "É 201\n",
      "Ê 202\n",
      "Ë 203\n",
      "Ì 204\n",
      "Í 205\n",
      "Î 206\n",
      "Ï 207\n",
      "Ð 208\n",
      "Ñ 209\n",
      "Ò 210\n",
      "Ó 211\n",
      "Ô 212\n",
      "Õ 213\n",
      "Ö 214\n",
      "× 215\n",
      "Ø 216\n",
      "Ù 217\n",
      "Ú 218\n",
      "Û 219\n",
      "Ü 220\n",
      "Ý 221\n",
      "Þ 222\n",
      "ß 223\n",
      "à 224\n",
      "á 225\n",
      "â 226\n",
      "ã 227\n",
      "ä 228\n",
      "å 229\n",
      "æ 230\n",
      "ç 231\n",
      "è 232\n",
      "é 233\n",
      "ê 234\n",
      "ë 235\n",
      "ì 236\n",
      "í 237\n",
      "î 238\n",
      "ï 239\n",
      "ð 240\n",
      "ñ 241\n",
      "ò 242\n",
      "ó 243\n",
      "ô 244\n",
      "õ 245\n",
      "ö 246\n",
      "÷ 247\n",
      "ø 248\n",
      "ù 249\n",
      "ú 250\n",
      "û 251\n",
      "ü 252\n",
      "ý 253\n",
      "þ 254\n",
      "ÿ 255\n"
     ]
    }
   ],
   "source": [
    "ord('1')\n",
    "for i in range (0,256):\n",
    "    sr = chr(i)\n",
    "    print(f\"{sr} {int(i)}\")"
   ]
  }
 ],
 "metadata": {
  "kernelspec": {
   "display_name": "Python 3",
   "language": "python",
   "name": "python3"
  },
  "language_info": {
   "codemirror_mode": {
    "name": "ipython",
    "version": 3
   },
   "file_extension": ".py",
   "mimetype": "text/x-python",
   "name": "python",
   "nbconvert_exporter": "python",
   "pygments_lexer": "ipython3",
   "version": "3.8.5"
  }
 },
 "nbformat": 4,
 "nbformat_minor": 4
}
