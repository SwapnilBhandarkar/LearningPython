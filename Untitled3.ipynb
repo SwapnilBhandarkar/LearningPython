{
 "cells": [
  {
   "cell_type": "code",
   "execution_count": 1,
   "metadata": {},
   "outputs": [
    {
     "name": "stdout",
     "output_type": "stream",
     "text": [
      "x is 3 and y is 2\n",
      "x is 17 and y is 12\n",
      "x is 99 and y is 70\n"
     ]
    }
   ],
   "source": [
    "solutions=[]\n",
    "def solxy():\n",
    "    for x in range(1,101):\n",
    "        for y in range(1,101):\n",
    "            sol=x*x-2*y*y\n",
    "            if(sol==1):\n",
    "                print(f\"x is {x} and y is {y}\")\n",
    "solxy()\n",
    "            \n",
    "            \n",
    "            \n"
   ]
  },
  {
   "cell_type": "code",
   "execution_count": 1,
   "metadata": {},
   "outputs": [
    {
     "name": "stdout",
     "output_type": "stream",
     "text": [
      "enter change of dollar you want0.72\n",
      "quarter : 2.0 dime : 2.0 nickel : 0.0 penny : 2.0\n",
      "h\n"
     ]
    }
   ],
   "source": [
    "quarter=0.25\n",
    "dime=0.10\n",
    "nickel=0.05\n",
    "penny=0.01\n",
    "a=float(input(\"enter change of dollar you want\"))\n",
    "if a>1.0:\n",
    "    print(\"enter valid intput i.e. is less than 1 dollar\")\n",
    "def getchange(a):\n",
    "       if(a<1):\n",
    "            a=a*100\n",
    "            q=a//25\n",
    "            a%=25\n",
    "            d=a//10\n",
    "            a%=10\n",
    "            n=a//5\n",
    "            a%=5\n",
    "            p=a\n",
    "            print(f\"quarter : {q} dime : {d} nickel : {n} penny : {p}\") \n",
    "          \n",
    "\n",
    "\n",
    "        \n",
    "getchange(a)\n",
    "                \n",
    "            \n",
    "            \n",
    "       \n",
    "         \n",
    "    \n",
    "  \n",
    "   \n",
    "    "
   ]
  },
  {
   "cell_type": "code",
   "execution_count": 4,
   "metadata": {},
   "outputs": [
    {
     "ename": "SyntaxError",
     "evalue": "cannot assign to function call (<ipython-input-4-7cd589a2a66f>, line 13)",
     "output_type": "error",
     "traceback": [
      "\u001b[1;36m  File \u001b[1;32m\"<ipython-input-4-7cd589a2a66f>\"\u001b[1;36m, line \u001b[1;32m13\u001b[0m\n\u001b[1;33m    weekdays(i)=n1\u001b[0m\n\u001b[1;37m    ^\u001b[0m\n\u001b[1;31mSyntaxError\u001b[0m\u001b[1;31m:\u001b[0m cannot assign to function call\n"
     ]
    }
   ],
   "source": [
    "\n",
    "weekdays = {1: \"Monday\",\n",
    "            2: \"Tuesday\",\n",
    "            3: \"Wednesday\",\n",
    "            4: \"Thursday\",\n",
    "            5: \"Friday\",\n",
    "            6: \"Saturday\",\n",
    "            7: \"Sunday\"}\n",
    "n=int(input(\"enter num of days\"))\n",
    "n1=1\n",
    "def countmoney(n):\n",
    "    for i in range(1,8):\n",
    "        print()\n",
    "        weekdays(i)=n1\n",
    "        n1+=1\n",
    "    if weekdays(1):\n",
    "        weekdays(1)=weekdays(1)+1\n",
    "        countmoney()\n",
    "    print(f\"{weekdays(i)} : {n1}\")\n",
    "countmoney(n)\n",
    "# def printtotal(n):\n",
    "#     while()\n",
    "\n",
    "        \n",
    "        \n",
    "    \n",
    "    \n",
    "    "
   ]
  },
  {
   "cell_type": "code",
   "execution_count": 6,
   "metadata": {
    "scrolled": true
   },
   "outputs": [
    {
     "ename": "TypeError",
     "evalue": "'dict' object is not callable",
     "output_type": "error",
     "traceback": [
      "\u001b[1;31m---------------------------------------------------------------------------\u001b[0m",
      "\u001b[1;31mTypeError\u001b[0m                                 Traceback (most recent call last)",
      "\u001b[1;32m<ipython-input-6-eb9714e66e81>\u001b[0m in \u001b[0;36m<module>\u001b[1;34m\u001b[0m\n\u001b[0;32m      7\u001b[0m             7: \"Sunday\"}\n\u001b[0;32m      8\u001b[0m \u001b[1;32mfor\u001b[0m \u001b[0mi\u001b[0m \u001b[1;32min\u001b[0m \u001b[0mrange\u001b[0m\u001b[1;33m(\u001b[0m\u001b[1;36m1\u001b[0m\u001b[1;33m,\u001b[0m\u001b[1;36m8\u001b[0m\u001b[1;33m)\u001b[0m\u001b[1;33m:\u001b[0m\u001b[1;33m\u001b[0m\u001b[1;33m\u001b[0m\u001b[0m\n\u001b[1;32m----> 9\u001b[1;33m         \u001b[0mprint\u001b[0m\u001b[1;33m(\u001b[0m\u001b[1;34mf\"{weekdays(i)}\"\u001b[0m\u001b[1;33m)\u001b[0m\u001b[1;33m\u001b[0m\u001b[1;33m\u001b[0m\u001b[0m\n\u001b[0m",
      "\u001b[1;31mTypeError\u001b[0m: 'dict' object is not callable"
     ]
    }
   ],
   "source": [
    "weekdays = {1: \"Monday\",\n",
    "            2: \"Tuesday\",\n",
    "            3: \"Wednesday\",\n",
    "            4: \"Thursday\",\n",
    "            5: \"Friday\",\n",
    "            6: \"Saturday\",\n",
    "            7: \"Sunday\"}\n",
    "for i in range(1,8):\n",
    "        print(f\"{weekdays(i)}\")"
   ]
  },
  {
   "cell_type": "code",
   "execution_count": 4,
   "metadata": {},
   "outputs": [
    {
     "name": "stdout",
     "output_type": "stream",
     "text": [
      "enter  num of day7\n",
      "sum is 28\n"
     ]
    }
   ],
   "source": [
    "day=int(input(\"enter  num of day\"))\n",
    "n=0\n",
    "n1=0\n",
    "d1=1\n",
    "sum=0\n",
    "while day+1!=d1 :\n",
    "    if d1%7==1:\n",
    "        n=n+1\n",
    "        n1=n\n",
    "        sum=sum+n\n",
    "    else:\n",
    "        n1=n1+1\n",
    "        sum=sum+n1\n",
    "    d1=d1+1\n",
    "else:\n",
    "    print(f\"sum is {sum}\")\n",
    "    "
   ]
  },
  {
   "cell_type": "code",
   "execution_count": 2,
   "metadata": {},
   "outputs": [
    {
     "name": "stdout",
     "output_type": "stream",
     "text": [
      "----task 1----\n",
      "enter score 20\n",
      "enter score 10\n",
      "enter score 30\n",
      "avg is 20.0\n",
      "---------------------\n",
      "\n",
      "----task 2----\n"
     ]
    }
   ],
   "source": [
    "i=0\n",
    "sum=0\n",
    "avg=0\n",
    "print(\"----task 1----\")\n",
    "for i in range(1,4):\n",
    "    val=int(input(\"enter score \"))\n",
    "    sum+=val\n",
    "    avg=sum/3.0\n",
    "print(f\"avg is {avg}\")\n",
    "print(\"---------------------\\n\")\n",
    "temp=0\n",
    "while i<4:\n",
    "    if val(i+1)<val:\n",
    "        temp=val(i+1)\n",
    "        \n",
    "\n",
    "\n",
    "\n",
    "\n"
   ]
  },
  {
   "cell_type": "code",
   "execution_count": null,
   "metadata": {},
   "outputs": [],
   "source": []
  }
 ],
 "metadata": {
  "kernelspec": {
   "display_name": "Python 3",
   "language": "python",
   "name": "python3"
  },
  "language_info": {
   "codemirror_mode": {
    "name": "ipython",
    "version": 3
   },
   "file_extension": ".py",
   "mimetype": "text/x-python",
   "name": "python",
   "nbconvert_exporter": "python",
   "pygments_lexer": "ipython3",
   "version": "3.8.5"
  }
 },
 "nbformat": 4,
 "nbformat_minor": 4
}
