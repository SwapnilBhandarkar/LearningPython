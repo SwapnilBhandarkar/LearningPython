{
 "cells": [
  {
   "cell_type": "code",
   "execution_count": 5,
   "metadata": {},
   "outputs": [
    {
     "ename": "SyntaxError",
     "evalue": "positional argument follows keyword argument (<ipython-input-5-cd10133ac3c4>, line 3)",
     "output_type": "error",
     "traceback": [
      "\u001b[1;36m  File \u001b[1;32m\"<ipython-input-5-cd10133ac3c4>\"\u001b[1;36m, line \u001b[1;32m3\u001b[0m\n\u001b[1;33m    wish(msg=\"hii\",\"java\")\u001b[0m\n\u001b[1;37m                   ^\u001b[0m\n\u001b[1;31mSyntaxError\u001b[0m\u001b[1;31m:\u001b[0m positional argument follows keyword argument\n"
     ]
    }
   ],
   "source": [
    "def wish(name,msg):\n",
    "    print(\"hello\",name,msg)\n",
    "wish(msg=\"hii\",\"java\")"
   ]
  },
  {
   "cell_type": "code",
   "execution_count": 10,
   "metadata": {},
   "outputs": [
    {
     "name": "stdout",
     "output_type": "stream",
     "text": [
      "the sum is  6\n",
      "the sum is  30\n"
     ]
    }
   ],
   "source": [
    "# variable positional argument\n",
    "def add(*n):\n",
    "    total=0\n",
    "    for i in n:\n",
    "        total+=i\n",
    "    print(\"the sum is \",total)\n",
    "add(1,2,3)\n",
    "add(9,10,11)"
   ]
  },
  {
   "cell_type": "code",
   "execution_count": 11,
   "metadata": {},
   "outputs": [
    {
     "name": "stdout",
     "output_type": "stream",
     "text": [
      "name , python\n",
      "age , 35\n",
      "city , Ahmedabad\n"
     ]
    }
   ],
   "source": [
    "# variable keyword argument\n",
    "def display(**kwargs):\n",
    "    for key,value in kwargs.items():\n",
    "        print(key,\",\",value)\n",
    "display(name=\"python\",age=35,city=\"Ahmedabad\")\n",
    "    "
   ]
  }
 ],
 "metadata": {
  "kernelspec": {
   "display_name": "Python 3",
   "language": "python",
   "name": "python3"
  },
  "language_info": {
   "codemirror_mode": {
    "name": "ipython",
    "version": 3
   },
   "file_extension": ".py",
   "mimetype": "text/x-python",
   "name": "python",
   "nbconvert_exporter": "python",
   "pygments_lexer": "ipython3",
   "version": "3.8.5"
  }
 },
 "nbformat": 4,
 "nbformat_minor": 4
}
