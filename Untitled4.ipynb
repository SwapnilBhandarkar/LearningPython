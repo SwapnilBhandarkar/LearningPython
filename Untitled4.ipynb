{
 "cells": [
  {
   "cell_type": "code",
   "execution_count": null,
   "metadata": {},
   "outputs": [],
   "source": [
    "print(\"hello\")"
   ]
  },
  {
   "cell_type": "code",
   "execution_count": null,
   "metadata": {},
   "outputs": [],
   "source": [
    "# starting with any positive integer replace the num by the sum of square of its digit and repeat the process untill the\n",
    "# num either equals 1 or it loops endlessly\n",
    "num=int(input(\"enter num\"))\n",
    "# sum=int(0)\n",
    "d=0\n",
    "while True:\n",
    "    sum=int(0)\n",
    "    while(num>0):\n",
    "    \n",
    "        d=(num%10)**2\n",
    "        sum=sum+(d)\n",
    "        num=num//10\n",
    "    num=sum\n",
    "    if(num==1):\n",
    "        print(\"happy num\")\n",
    "        break\n",
    "    elif(num==4):\n",
    "        print(\"not happy num\")\n",
    "        \n",
    "#     else:\n",
    "#         print(\"not happy num\")\n",
    "        \n",
    "   \n",
    "    \n",
    "    \n",
    "\n",
    "  "
   ]
  },
  {
   "cell_type": "code",
   "execution_count": 5,
   "metadata": {},
   "outputs": [
    {
     "name": "stdout",
     "output_type": "stream",
     "text": [
      "1729 1 12 9 10\n",
      "1729 1 12 10 9\n",
      "4104 2 16 9 15\n",
      "4104 2 16 15 9\n",
      "1729 9 10 1 12\n",
      "1729 9 10 12 1\n",
      "4104 9 15 2 16\n",
      "4104 9 15 16 2\n",
      "1729 10 9 1 12\n",
      "1729 10 9 12 1\n",
      "1729 12 1 9 10\n",
      "1729 12 1 10 9\n",
      "4104 15 9 2 16\n",
      "4104 15 9 16 2\n",
      "4104 16 2 9 15\n",
      "4104 16 2 15 9\n"
     ]
    }
   ],
   "source": [
    "d=0\n",
    "for a in range(1,21):\n",
    "    for b in range(1,21):\n",
    "        for c in range(1,21):\n",
    "            for d in range(1,21):\n",
    "                 if ((a != b) and (a != c) and (a != d) and (b != c) and (b != d) and (c != d)):\n",
    "                        \n",
    "                        sum1=int(a**3)+int(b**3)\n",
    "                        sum2=int(c**3)+int(d**3)\n",
    "                        if sum1==sum2:\n",
    "                                number=int(a**3)+int(b**3)\n",
    "                                print(number,f\"{a} {b} {c} {d}\")\n",
    "                \n",
    "        \n",
    "                \n",
    "               \n",
    "#                     print(f\"hardy ramanujan at {a} and {b}\")\n",
    "# print(\"\\n\")\n",
    "# for a in range(1,21):\n",
    "#     for b in range(1,21):\n",
    "#         sum=int(a**3)+int(b**3)\n",
    "#         if sum==4221:\n",
    "#             print(f\"hardy ramanujan at {a} and {b}\")\n",
    "        \n",
    "        "
   ]
  },
  {
   "cell_type": "code",
   "execution_count": 14,
   "metadata": {},
   "outputs": [
    {
     "name": "stdout",
     "output_type": "stream",
     "text": [
      "enter num whose sqrt you want4\n",
      "sqrt of 4 is 2.0\n"
     ]
    }
   ],
   "source": [
    "def newton(num):\n",
    "    guess=num/2 #initial\n",
    "    for i in range(1,10):\n",
    "        guess=0.5*(guess+(num/guess))\n",
    "    return guess\n",
    "        \n",
    "num=int(input(\"enter num whose sqrt you want\"))\n",
    "sqrt=newton(num)\n",
    "print(f\"sqrt of {num} is {sqrt}\")"
   ]
  },
  {
   "cell_type": "code",
   "execution_count": 7,
   "metadata": {},
   "outputs": [
    {
     "name": "stdout",
     "output_type": "stream",
     "text": [
      "      \n",
      "     1 \n",
      "    1 1 \n",
      "   1 2 1 \n",
      "  1 3 3 1 \n",
      " 1 4 6 4 1 \n",
      "1 5 10 10 5 1 \n"
     ]
    }
   ],
   "source": [
    "def solve(n):\n",
    "   for i in range(n+1):\n",
    "      for j in range(n-i):\n",
    "         print(' ', end='')\n",
    "\n",
    "      C = 1\n",
    "      for j in range(1, i+1):\n",
    "         print(C, ' ', sep='', end='')\n",
    "         C = C * (i - j) // j\n",
    "      print()\n",
    "\n",
    "n = 6\n",
    "solve(n)"
   ]
  },
  {
   "cell_type": "code",
   "execution_count": 11,
   "metadata": {},
   "outputs": [
    {
     "name": "stdout",
     "output_type": "stream",
     "text": [
      "enter num 2\n",
      "1 1 1 1 1 2\n",
      "1 1 1 1 2 1\n",
      "1 1 1 2 1 1\n",
      "1 1 2 1 1 1\n",
      "1 2 1 1 1 1\n",
      "2 1 1 1 1 1\n"
     ]
    }
   ],
   "source": [
    "num=int(input(\"enter num \"))\n",
    "temp=num\n",
    "product=1\n",
    "for a in range(temp+1):\n",
    "    for b in range(temp+1):\n",
    "        for c in range(temp+1):\n",
    "            for d in range(temp+1):\n",
    "                for e in range(temp+1):\n",
    "                    for f in range(temp+1):\n",
    "                        product=a*b*c*d*e*f\n",
    "                        if(product==num):\n",
    "                            print(a,b,c,d,e,f)\n",
    "                        \n",
    "    \n",
    "    "
   ]
  },
  {
   "cell_type": "code",
   "execution_count": 12,
   "metadata": {},
   "outputs": [
    {
     "name": "stdout",
     "output_type": "stream",
     "text": [
      "Enter a number to find its square root: 2\n",
      "The square root of 2.0 is approximately: 1.414213562373095\n"
     ]
    }
   ],
   "source": []
  },
  {
   "cell_type": "code",
   "execution_count": null,
   "metadata": {},
   "outputs": [],
   "source": []
  }
 ],
 "metadata": {
  "kernelspec": {
   "display_name": "Python 3",
   "language": "python",
   "name": "python3"
  },
  "language_info": {
   "codemirror_mode": {
    "name": "ipython",
    "version": 3
   },
   "file_extension": ".py",
   "mimetype": "text/x-python",
   "name": "python",
   "nbconvert_exporter": "python",
   "pygments_lexer": "ipython3",
   "version": "3.8.5"
  }
 },
 "nbformat": 4,
 "nbformat_minor": 4
}
